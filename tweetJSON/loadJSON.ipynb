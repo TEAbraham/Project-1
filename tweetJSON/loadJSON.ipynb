{
 "cells": [
  {
   "cell_type": "code",
   "execution_count": 2,
   "metadata": {},
   "outputs": [],
   "source": [
    "import json\n",
    "from pprint import pprint"
   ]
  },
  {
   "cell_type": "code",
   "execution_count": 3,
   "metadata": {},
   "outputs": [],
   "source": [
    "# Read JSONs\n",
    "sample = \"master_2014.json\""
   ]
  },
  {
   "cell_type": "code",
   "execution_count": 4,
   "metadata": {},
   "outputs": [],
   "source": [
    "def load_json(jsonfile):\n",
    "    \"\"\"Load JSON from a file\"\"\"\n",
    "    with open(jsonfile) as file_handle:\n",
    "        return json.load(file_handle)"
   ]
  },
  {
   "cell_type": "code",
   "execution_count": 7,
   "metadata": {},
   "outputs": [
    {
     "name": "stdout",
     "output_type": "stream",
     "text": [
      "{'contributors': None,\n",
      " 'coordinates': {'coordinates': [-80.0371783, 26.6767844], 'type': 'Point'},\n",
      " 'created_at': 'Wed Dec 31 23:59:55 +0000 2014',\n",
      " 'entities': {'hashtags': [],\n",
      "              'symbols': [],\n",
      "              'urls': [],\n",
      "              'user_mentions': [{'id': 2833686024,\n",
      "                                 'id_str': '2833686024',\n",
      "                                 'indices': [1, 13],\n",
      "                                 'name': 'Ron Meier',\n",
      "                                 'screen_name': 'ronmeier123'},\n",
      "                                {'id': 50687788,\n",
      "                                 'id_str': '50687788',\n",
      "                                 'indices': [15, 21],\n",
      "                                 'name': \"Macy's\",\n",
      "                                 'screen_name': 'Macys'}]},\n",
      " 'favorite_count': 21,\n",
      " 'favorited': False,\n",
      " 'geo': {'coordinates': [26.6767844, -80.0371783], 'type': 'Point'},\n",
      " 'id': 550441250965708800,\n",
      " 'id_str': '550441250965708800',\n",
      " 'in_reply_to_screen_name': None,\n",
      " 'in_reply_to_status_id': None,\n",
      " 'in_reply_to_status_id_str': None,\n",
      " 'in_reply_to_user_id': None,\n",
      " 'in_reply_to_user_id_str': None,\n",
      " 'is_quote_status': False,\n",
      " 'lang': 'en',\n",
      " 'place': {'attributes': {},\n",
      "           'bounding_box': {'coordinates': [[[-80.0455466, 26.593627],\n",
      "                                             [-80.032976, 26.593627],\n",
      "                                             [-80.032976, 26.771381],\n",
      "                                             [-80.0455466, 26.771381]]],\n",
      "                            'type': 'Polygon'},\n",
      "           'contained_within': [],\n",
      "           'country': 'United States',\n",
      "           'country_code': 'US',\n",
      "           'full_name': 'Palm Beach, FL',\n",
      "           'id': '3297935a53c5a08c',\n",
      "           'name': 'Palm Beach',\n",
      "           'place_type': 'city',\n",
      "           'url': 'https://api.twitter.com/1.1/geo/id/3297935a53c5a08c.json'},\n",
      " 'retweet_count': 8,\n",
      " 'retweeted': False,\n",
      " 'source': '<a href=\"http://twitter.com/download/android\" '\n",
      "           'rel=\"nofollow\">Twitter for Android</a>',\n",
      " 'text': '\"@ronmeier123: @Macys Your APPAREL is UNPARALLELED! In Order to '\n",
      "         'OUTSMART the Rest, You Always Need to Be Looking Your Best! TRUMP '\n",
      "         '2016!\"',\n",
      " 'truncated': False,\n",
      " 'user': {'contributors_enabled': False,\n",
      "          'created_at': 'Wed Mar 18 13:46:38 +0000 2009',\n",
      "          'default_profile': False,\n",
      "          'default_profile_image': False,\n",
      "          'description': 'President-elect of the United States',\n",
      "          'entities': {'description': {'urls': []},\n",
      "                       'url': {'urls': [{'display_url': 'DonaldJTrump.com',\n",
      "                                         'expanded_url': 'http://www.DonaldJTrump.com',\n",
      "                                         'indices': [0, 23],\n",
      "                                         'url': 'https://t.co/mZB2hymxC9'}]}},\n",
      "          'favourites_count': 45,\n",
      "          'follow_request_sent': False,\n",
      "          'followers_count': 15668113,\n",
      "          'following': True,\n",
      "          'friends_count': 41,\n",
      "          'geo_enabled': True,\n",
      "          'has_extended_profile': False,\n",
      "          'id': 25073877,\n",
      "          'id_str': '25073877',\n",
      "          'is_translation_enabled': True,\n",
      "          'is_translator': False,\n",
      "          'lang': 'en',\n",
      "          'listed_count': 45254,\n",
      "          'location': 'New York, NY',\n",
      "          'name': 'Donald J. Trump',\n",
      "          'notifications': True,\n",
      "          'profile_background_color': '6D5C18',\n",
      "          'profile_background_image_url': 'http://pbs.twimg.com/profile_background_images/530021613/trump_scotland__43_of_70_cc.jpg',\n",
      "          'profile_background_image_url_https': 'https://pbs.twimg.com/profile_background_images/530021613/trump_scotland__43_of_70_cc.jpg',\n",
      "          'profile_background_tile': True,\n",
      "          'profile_banner_url': 'https://pbs.twimg.com/profile_banners/25073877/1479267159',\n",
      "          'profile_image_url': 'http://pbs.twimg.com/profile_images/1980294624/DJT_Headshot_V2_normal.jpg',\n",
      "          'profile_image_url_https': 'https://pbs.twimg.com/profile_images/1980294624/DJT_Headshot_V2_normal.jpg',\n",
      "          'profile_link_color': '0D5B73',\n",
      "          'profile_sidebar_border_color': 'BDDCAD',\n",
      "          'profile_sidebar_fill_color': 'C5CEC0',\n",
      "          'profile_text_color': '333333',\n",
      "          'profile_use_background_image': True,\n",
      "          'protected': False,\n",
      "          'screen_name': 'realDonaldTrump',\n",
      "          'statuses_count': 34010,\n",
      "          'time_zone': 'Eastern Time (US & Canada)',\n",
      "          'translator_type': 'none',\n",
      "          'url': 'https://t.co/mZB2hymxC9',\n",
      "          'utc_offset': -18000,\n",
      "          'verified': True}}\n"
     ]
    }
   ],
   "source": [
    "sample_data = load_json(sample)\n",
    "#print(json.dumps(sample_data[20], indent=4, sort_keys=True))\n",
    "pprint(sample_data[0])"
   ]
  }
 ],
 "metadata": {
  "kernelspec": {
   "display_name": "Python 3",
   "language": "python",
   "name": "python3"
  },
  "language_info": {
   "codemirror_mode": {
    "name": "ipython",
    "version": 3
   },
   "file_extension": ".py",
   "mimetype": "text/x-python",
   "name": "python",
   "nbconvert_exporter": "python",
   "pygments_lexer": "ipython3",
   "version": "3.6.4"
  }
 },
 "nbformat": 4,
 "nbformat_minor": 2
}
